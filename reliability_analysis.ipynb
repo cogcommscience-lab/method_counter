{
 "cells": [
  {
   "cell_type": "code",
   "execution_count": null,
   "id": "326a2657",
   "metadata": {},
   "outputs": [],
   "source": [
    "# This code calculates reliability (Cohen's Kappa) and confusion matrices for human/dictionary annotation\n",
    "# It assumes there are two data files, one long and the other wide\n",
    "\n",
    "# Dependencies\n",
    "    # Pandas \n",
    "    # sklearn  \n",
    "    # matplotlib\n",
    "\n",
    "import pandas as pd\n",
    "import matplotlib.pyplot as plt\n",
    "from sklearn.preprocessing import LabelEncoder\n",
    "from sklearn.metrics import cohen_kappa_score\n",
    "from sklearn.metrics import confusion_matrix\n",
    "from sklearn.metrics import confusion_matrix, ConfusionMatrixDisplay"
   ]
  },
  {
   "cell_type": "code",
   "execution_count": null,
   "id": "bde764f1",
   "metadata": {},
   "outputs": [],
   "source": [
    "# Read in the reliabiltiy data file\n",
    "# Assumes this is in the same workign directory as your code\n",
    "\n",
    "data_long = pd.read_csv('reliability_data_long.csv')\n",
    "data_wide = pd.read_csv('reliability_data_wide.csv')"
   ]
  },
  {
   "cell_type": "code",
   "execution_count": null,
   "id": "3bd2de58",
   "metadata": {},
   "outputs": [],
   "source": [
    "# Sanity check, did it get read in correctly?\n",
    "\n",
    "print(data_wide)"
   ]
  },
  {
   "cell_type": "code",
   "execution_count": null,
   "id": "8bb1e23c",
   "metadata": {},
   "outputs": [],
   "source": [
    "# Sanity check, did it get read in correctly?\n",
    "\n",
    "print(data_long)"
   ]
  },
  {
   "cell_type": "code",
   "execution_count": null,
   "id": "04814869",
   "metadata": {},
   "outputs": [],
   "source": [
    "# Calculate Cohen's Kappa\n",
    "    \n",
    "kappa = cohen_kappa_score(data_long[\"human\"], data_long[\"dictionary\"])\n",
    "\n",
    "print(kappa)"
   ]
  },
  {
   "cell_type": "code",
   "execution_count": null,
   "id": "5581a0cc",
   "metadata": {
    "scrolled": true
   },
   "outputs": [],
   "source": [
    "# Make some a confusion matrices\n",
    "cm_self = confusion_matrix(data_wide[\"human_self_report\"], data_wide[\"dictionary_self_report\"])\n",
    "cm_behavior = confusion_matrix(data_wide[\"human_behavior\"], data_wide[\"dictionary_behavior\"])\n",
    "cm_neurophysiological = confusion_matrix(data_wide[\"human_neurophysiological\"], data_wide[\"dictionary_neurophysiological\"])\n",
    "\n",
    "# Create subplots\n",
    "fig, axes = plt.subplots(1, 3, figsize=(15, 5))\n",
    "\n",
    "# Plot confusion matrices\n",
    "disp_self = ConfusionMatrixDisplay(confusion_matrix=cm_self)\n",
    "disp_behavior = ConfusionMatrixDisplay(confusion_matrix=cm_behavior)\n",
    "disp_neurophysiological = ConfusionMatrixDisplay(confusion_matrix=cm_neurophysiological)\n",
    "\n",
    "disp_self.plot(ax=axes[0], cmap=\"Blues\", xticks_rotation='vertical')\n",
    "disp_behavior.plot(ax=axes[1], cmap=\"Blues\", xticks_rotation='vertical')\n",
    "disp_neurophysiological.plot(ax=axes[2], cmap=\"Blues\", xticks_rotation='vertical')\n",
    "\n",
    "# Set titles for each subplot\n",
    "title_fontsize = 16\n",
    "axes[0].set_title(\"Self Report\", fontsize=title_fontsize)\n",
    "axes[1].set_title(\"Behavior\", fontsize=title_fontsize)\n",
    "axes[2].set_title(\"Neurophysiological\", fontsize=title_fontsize)\n",
    "\n",
    "# Set axis label font size\n",
    "label_fontsize = 14\n",
    "for ax in axes:\n",
    "    ax.set_xlabel('Dictionary Annotation', fontsize=label_fontsize)\n",
    "    ax.set_ylabel('Human Annotation', fontsize=label_fontsize)\n",
    "\n",
    "# Set font size for cell text\n",
    "cell_text_fontsize = 14\n",
    "for ax in axes:\n",
    "    for text in ax.texts:\n",
    "        text.set_fontsize(cell_text_fontsize)\n",
    "        \n",
    "# Set colorbar font size\n",
    "cbar_self = disp_self.im_.colorbar\n",
    "cbar_self.ax.tick_params(labelsize=14)\n",
    "cbar_behavior = disp_behavior.im_.colorbar\n",
    "cbar_behavior.ax.tick_params(labelsize=14)\n",
    "cbar_neurophysiological = disp_neurophysiological.im_.colorbar\n",
    "cbar_neurophysiological.ax.tick_params(labelsize=14)\n",
    "\n",
    "# Adjust the layout\n",
    "plt.tight_layout()\n",
    "\n",
    "# Save the plot as a JPEG image\n",
    "plt.savefig('confusion.jpg', format='jpeg', dpi=300, bbox_inches='tight')\n",
    "\n",
    "# Display the combined plot\n",
    "plt.show()\n",
    "\n"
   ]
  },
  {
   "cell_type": "code",
   "execution_count": null,
   "id": "ca3500cb",
   "metadata": {},
   "outputs": [],
   "source": []
  }
 ],
 "metadata": {
  "kernelspec": {
   "display_name": "Python 3 (ipykernel)",
   "language": "python",
   "name": "python3"
  },
  "language_info": {
   "codemirror_mode": {
    "name": "ipython",
    "version": 3
   },
   "file_extension": ".py",
   "mimetype": "text/x-python",
   "name": "python",
   "nbconvert_exporter": "python",
   "pygments_lexer": "ipython3",
   "version": "3.9.12"
  }
 },
 "nbformat": 4,
 "nbformat_minor": 5
}
